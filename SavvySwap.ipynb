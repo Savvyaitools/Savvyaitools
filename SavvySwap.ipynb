{
  "nbformat": 4,
  "nbformat_minor": 0,
  "metadata": {
    "colab": {
      "provenance": [],
      "gpuType": "T4",
      "authorship_tag": "ABX9TyPy/7WTXgOZ9+t5Lgz8P0Cf",
      "include_colab_link": true
    },
    "kernelspec": {
      "name": "python3",
      "display_name": "Python 3"
    },
    "language_info": {
      "name": "python"
    },
    "accelerator": "GPU"
  },
  "cells": [
    {
      "cell_type": "markdown",
      "metadata": {
        "id": "view-in-github",
        "colab_type": "text"
      },
      "source": [
        "<a href=\"https://colab.research.google.com/github/Savvyaitools/Savvyaitools/blob/main/SavvySwap.ipynb\" target=\"_parent\"><img src=\"https://colab.research.google.com/assets/colab-badge.svg\" alt=\"Open In Colab\"/></a>"
      ]
    },
    {
      "cell_type": "code",
      "execution_count": null,
      "metadata": {
        "id": "XzhIj0xdTRPV"
      },
      "outputs": [],
      "source": [
        "import os\n",
        "from google.colab import drive\n",
        "\n",
        "if not os.path.exists('/content/drive/MyDrive'):\n",
        "    drive.mount('/content/drive')\n",
        "else:\n",
        "    print(\"✅ Google Drive already mounted.\")"
      ]
    },
    {
      "cell_type": "code",
      "metadata": {
        "id": "9b5cd754"
      },
      "source": [
        "!pip install torchvision==0.16.0"
      ],
      "execution_count": null,
      "outputs": []
    },
    {
      "cell_type": "code",
      "source": [
        "%cd facefusion\n",
        "!pip install -r requirements.txt\n",
        "%cd ..\n",
        "!git clone https://github.com/xinntao/Real-ESRGAN.git"
      ],
      "metadata": {
        "id": "gnUiEKS0T-qb"
      },
      "execution_count": null,
      "outputs": []
    },
    {
      "cell_type": "code",
      "source": [
        "%cd Real-ESRGAN\n",
        "!pip install -r requirements.txt\n",
        "!python setup.py develop\n",
        "%cd ..\n",
        "\n",
        "# Check if the output directory exists before running the command\n",
        "import os\n",
        "output_dir = '/content/drive/MyDrive/boop'\n",
        "if not os.path.exists(output_dir):\n",
        "    print(f\"Output directory {output_dir} does not exist.\")\n",
        "    # Consider creating the directory if it doesn't exist:\n",
        "    # os.makedirs(output_dir)\n",
        "\n",
        "!python facefusion/run.py \\\n",
        "  --target /content/drive/MyDrive/boop/input_video.mp4 \\\n",
        "  --output-video-quality 80 \\\n",
        "  --source /content/facefusion/face.jpeg \\\n",
        "  -o /content/drive/MyDrive/boop/swapped.mp4 \\\n",
        "  --execution-provider cuda \\\n",
        "  --frame-processor face_swapper face_enhancer frame_enhancer\n",
        "\n",
        "print(\"✅ Face swap completed.\")"
      ],
      "metadata": {
        "id": "pXCuOjwnT_ck"
      },
      "execution_count": null,
      "outputs": []
    },
    {
      "cell_type": "code",
      "source": [
        "!apt-get -qq install -y ffmpeg\n",
        "!pip install -q basicsr facexlib filterpy gfpgan realesrgan insightface\n",
        "!git clone https://github.com/facefusion/facefusion.git\n",
        "%cd facefusion\n",
        "!pip install -r requirements.txt"
      ],
      "metadata": {
        "id": "jV2irRMVTv3M"
      },
      "execution_count": null,
      "outputs": []
    },
    {
      "cell_type": "code",
      "source": [
        "!mkdir -p /content/frames_enhanced\n",
        "%cd Real-ESRGAN\n",
        "!python inference_realesrgan.py \\\n",
        "  -n RealESRGAN_x4plus \\\n",
        "  -i /content/frames \\\n",
        "  -o /content/frames_enhanced \\\n",
        "  --outscale 2 \\\n",
        "  --suffix enhanced\n",
        "%cd .."
      ],
      "metadata": {
        "id": "LGBBoCr6UD6e"
      },
      "execution_count": null,
      "outputs": []
    },
    {
      "cell_type": "code",
      "source": [
        "!ffmpeg -framerate 30 -i /content/frames_enhanced/frame_%05d_enhanced.png \\\n",
        "  -c:v libx264 -pix_fmt yuv420p \\\n",
        "  /content/drive/MyDrive/boop/final_output_enhanced.mp4\n",
        "\n",
        "print(\"🎬 Final enhanced video saved to: /content/drive/MyDrive/boop/final_output_enhanced.mp4\")"
      ],
      "metadata": {
        "id": "HfmhJHqXUV-7"
      },
      "execution_count": null,
      "outputs": []
    }
  ]
}